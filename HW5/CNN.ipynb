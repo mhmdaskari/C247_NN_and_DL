{
 "cells": [
  {
   "cell_type": "markdown",
   "metadata": {},
   "source": [
    "# Convolutional neural networks\n",
    "\n",
    "In this notebook, we'll put together our convolutional layers to implement a 3-layer CNN.  Then, we'll ask you to implement a CNN that can achieve > 65% validation error on CIFAR-10.\n",
    "\n",
    "If you have not completed the Spatial BatchNorm Notebook, please see the following description from that notebook:\n",
    "\n",
    "Please copy and paste your prior implemented code from HW #4 to start this assignment.  If you did not correctly implement the layers in HW #4, you may collaborate with a classmate to use their layer implementations from HW #4.  You may also visit TA or Prof OH to correct your implementation.  \n",
    "\n",
    "You'll want to copy and paste from HW #4:\n",
    "    - layers.py for your FC network layers, as well as batchnorm and dropout.\n",
    "    - layer_utils.py for your combined FC network layers.\n",
    "    - optim.py for your optimizers.\n",
    "\n",
    "Be sure to place these in the `nndl/` directory so they're imported correctly.  Note, as announced in class, we will not be releasing our solutions."
   ]
  },
  {
   "cell_type": "code",
   "execution_count": 1,
   "metadata": {},
   "outputs": [],
   "source": [
    "# As usual, a bit of setup\n",
    "\n",
    "import numpy as np\n",
    "import matplotlib.pyplot as plt\n",
    "from nndl.cnn import *\n",
    "from utils.data_utils import get_CIFAR10_data\n",
    "from utils.gradient_check import eval_numerical_gradient_array, eval_numerical_gradient\n",
    "from nndl.layers import *\n",
    "from nndl.conv_layers import *\n",
    "from utils.fast_layers import *\n",
    "from utils.solver import Solver\n",
    "\n",
    "%matplotlib inline\n",
    "plt.rcParams['figure.figsize'] = (10.0, 8.0) # set default size of plots\n",
    "plt.rcParams['image.interpolation'] = 'nearest'\n",
    "plt.rcParams['image.cmap'] = 'gray'\n",
    "\n",
    "# for auto-reloading external modules\n",
    "# see http://stackoverflow.com/questions/1907993/autoreload-of-modules-in-ipython\n",
    "%load_ext autoreload\n",
    "%autoreload 2\n",
    "\n",
    "def rel_error(x, y):\n",
    "  \"\"\" returns relative error \"\"\"\n",
    "  return np.max(np.abs(x - y) / (np.maximum(1e-8, np.abs(x) + np.abs(y))))"
   ]
  },
  {
   "cell_type": "code",
   "execution_count": 3,
   "metadata": {},
   "outputs": [
    {
     "name": "stdout",
     "output_type": "stream",
     "text": [
      "X_train: (49000, 3, 32, 32) \n",
      "y_train: (49000,) \n",
      "X_val: (1000, 3, 32, 32) \n",
      "y_val: (1000,) \n",
      "X_test: (1000, 3, 32, 32) \n",
      "y_test: (1000,) \n"
     ]
    }
   ],
   "source": [
    "# Load the (preprocessed) CIFAR10 data.\n",
    "\n",
    "data = get_CIFAR10_data()\n",
    "for k in data.keys():\n",
    "  print('{}: {} '.format(k, data[k].shape))"
   ]
  },
  {
   "cell_type": "markdown",
   "metadata": {},
   "source": [
    "## Three layer CNN\n",
    "\n",
    "In this notebook, you will implement a three layer CNN.  The `ThreeLayerConvNet` class is in `nndl/cnn.py`.  You'll need to modify that code for this section, including the initialization, as well as the calculation of the loss and gradients.  You should be able to use the building blocks you have either earlier coded or that we have provided.  Be sure to use the fast layers.\n",
    "\n",
    "The architecture of this CNN will be:\n",
    "\n",
    "conv - relu - 2x2 max pool - affine - relu - affine - softmax\n",
    "\n",
    "We won't use batchnorm yet.  You've also done enough of these to know how to debug; use the cells below.\n",
    "\n",
    "Note: As we are implementing several layers CNN networks. The gradient error can be expected for the `eval_numerical_gradient()` function. If your `W1 max relative error` and `W2 max relative error` are around or below 0.01, they should be acceptable. Other errors should be less than 1e-5. "
   ]
  },
  {
   "cell_type": "code",
   "execution_count": 27,
   "metadata": {},
   "outputs": [
    {
     "name": "stdout",
     "output_type": "stream",
     "text": [
      "W1 max relative error: 0.04891631862061672\n",
      "W2 max relative error: 0.0007484325592691205\n",
      "W3 max relative error: 9.922750376588204e-05\n",
      "b1 max relative error: 7.4711628147857625e-06\n",
      "b2 max relative error: 1.4383322308339876e-07\n",
      "b3 max relative error: 7.491839270713893e-10\n"
     ]
    }
   ],
   "source": [
    "num_inputs = 2\n",
    "input_dim = (3, 16, 16)\n",
    "reg = 0.0\n",
    "num_classes = 10\n",
    "X = np.random.randn(num_inputs, *input_dim)\n",
    "y = np.random.randint(num_classes, size=num_inputs)\n",
    "\n",
    "model = ThreeLayerConvNet(num_filters=3, filter_size=3,\n",
    "                          input_dim=input_dim, hidden_dim=7,\n",
    "                          dtype=np.float64)\n",
    "loss, grads = model.loss(X, y)\n",
    "for param_name in sorted(grads):\n",
    "    f = lambda _: model.loss(X, y)[0]\n",
    "    param_grad_num = eval_numerical_gradient(f, model.params[param_name], verbose=False, h=1e-6)\n",
    "    e = rel_error(param_grad_num, grads[param_name])\n",
    "    print('{} max relative error: {}'.format(param_name, rel_error(param_grad_num, grads[param_name])))"
   ]
  },
  {
   "cell_type": "markdown",
   "metadata": {},
   "source": [
    "### Overfit small dataset\n",
    "\n",
    "To check your CNN implementation, let's overfit a small dataset."
   ]
  },
  {
   "cell_type": "code",
   "execution_count": 28,
   "metadata": {},
   "outputs": [
    {
     "name": "stdout",
     "output_type": "stream",
     "text": [
      "(Iteration 1 / 20) loss: 2.316632\n",
      "(Epoch 0 / 10) train acc: 0.250000; val_acc: 0.124000\n",
      "(Iteration 2 / 20) loss: 2.243919\n",
      "(Epoch 1 / 10) train acc: 0.220000; val_acc: 0.125000\n",
      "(Iteration 3 / 20) loss: 3.321380\n",
      "(Iteration 4 / 20) loss: 3.102359\n",
      "(Epoch 2 / 10) train acc: 0.200000; val_acc: 0.095000\n",
      "(Iteration 5 / 20) loss: 2.422984\n",
      "(Iteration 6 / 20) loss: 2.225107\n",
      "(Epoch 3 / 10) train acc: 0.370000; val_acc: 0.149000\n",
      "(Iteration 7 / 20) loss: 1.954001\n",
      "(Iteration 8 / 20) loss: 1.945217\n",
      "(Epoch 4 / 10) train acc: 0.490000; val_acc: 0.237000\n",
      "(Iteration 9 / 20) loss: 1.754238\n",
      "(Iteration 10 / 20) loss: 1.536412\n",
      "(Epoch 5 / 10) train acc: 0.540000; val_acc: 0.203000\n",
      "(Iteration 11 / 20) loss: 1.486046\n",
      "(Iteration 12 / 20) loss: 1.061721\n",
      "(Epoch 6 / 10) train acc: 0.670000; val_acc: 0.195000\n",
      "(Iteration 13 / 20) loss: 1.021861\n",
      "(Iteration 14 / 20) loss: 1.128213\n",
      "(Epoch 7 / 10) train acc: 0.710000; val_acc: 0.191000\n",
      "(Iteration 15 / 20) loss: 1.189997\n",
      "(Iteration 16 / 20) loss: 0.865023\n",
      "(Epoch 8 / 10) train acc: 0.800000; val_acc: 0.205000\n",
      "(Iteration 17 / 20) loss: 0.683777\n",
      "(Iteration 18 / 20) loss: 0.618959\n",
      "(Epoch 9 / 10) train acc: 0.760000; val_acc: 0.226000\n",
      "(Iteration 19 / 20) loss: 0.804346\n",
      "(Iteration 20 / 20) loss: 0.853755\n",
      "(Epoch 10 / 10) train acc: 0.850000; val_acc: 0.202000\n"
     ]
    }
   ],
   "source": [
    "num_train = 100\n",
    "small_data = {\n",
    "  'X_train': data['X_train'][:num_train],\n",
    "  'y_train': data['y_train'][:num_train],\n",
    "  'X_val': data['X_val'],\n",
    "  'y_val': data['y_val'],\n",
    "}\n",
    "\n",
    "model = ThreeLayerConvNet(weight_scale=1e-2)\n",
    "\n",
    "solver = Solver(model, small_data,\n",
    "                num_epochs=10, batch_size=50,\n",
    "                update_rule='adam',\n",
    "                optim_config={\n",
    "                  'learning_rate': 1e-3,\n",
    "                },\n",
    "                verbose=True, print_every=1)\n",
    "solver.train()"
   ]
  },
  {
   "cell_type": "code",
   "execution_count": 29,
   "metadata": {},
   "outputs": [
    {
     "data": {
      "image/png": "[encoded data removed]",
      "text/plain": [
       "<Figure size 1000x800 with 2 Axes>"
      ]
     },
     "metadata": {},
     "output_type": "display_data"
    }
   ],
   "source": [
    "plt.subplot(2, 1, 1)\n",
    "plt.plot(solver.loss_history, 'o')\n",
    "plt.xlabel('iteration')\n",
    "plt.ylabel('loss')\n",
    "\n",
    "plt.subplot(2, 1, 2)\n",
    "plt.plot(solver.train_acc_history, '-o')\n",
    "plt.plot(solver.val_acc_history, '-o')\n",
    "plt.legend(['train', 'val'], loc='upper left')\n",
    "plt.xlabel('epoch')\n",
    "plt.ylabel('accuracy')\n",
    "plt.show()"
   ]
  },
  {
   "cell_type": "markdown",
   "metadata": {},
   "source": [
    "## Train the network\n",
    "\n",
    "Now we train the 3 layer CNN on CIFAR-10 and assess its accuracy."
   ]
  },
  {
   "cell_type": "code",
   "execution_count": 30,
   "metadata": {
    "scrolled": false
   },
   "outputs": [
    {
     "name": "stdout",
     "output_type": "stream",
     "text": [
      "(Iteration 1 / 980) loss: 2.304686\n",
      "(Epoch 0 / 1) train acc: 0.094000; val_acc: 0.113000\n",
      "(Iteration 21 / 980) loss: 2.095011\n",
      "(Iteration 41 / 980) loss: 2.181652\n",
      "(Iteration 61 / 980) loss: 1.974719\n",
      "(Iteration 81 / 980) loss: 2.026965\n",
      "(Iteration 101 / 980) loss: 2.117465\n",
      "(Iteration 121 / 980) loss: 1.877075\n",
      "(Iteration 141 / 980) loss: 1.902946\n",
      "(Iteration 161 / 980) loss: 1.626291\n",
      "(Iteration 181 / 980) loss: 1.939446\n",
      "(Iteration 201 / 980) loss: 1.818181\n",
      "(Iteration 221 / 980) loss: 1.763338\n",
      "(Iteration 241 / 980) loss: 1.642689\n",
      "(Iteration 261 / 980) loss: 1.678585\n",
      "(Iteration 281 / 980) loss: 1.880237\n",
      "(Iteration 301 / 980) loss: 1.696331\n",
      "(Iteration 321 / 980) loss: 2.064996\n",
      "(Iteration 341 / 980) loss: 1.572644\n",
      "(Iteration 361 / 980) loss: 1.674037\n",
      "(Iteration 381 / 980) loss: 1.742069\n",
      "(Iteration 401 / 980) loss: 1.749070\n",
      "(Iteration 421 / 980) loss: 1.583757\n",
      "(Iteration 441 / 980) loss: 1.331853\n",
      "(Iteration 461 / 980) loss: 1.644555\n",
      "(Iteration 481 / 980) loss: 1.659151\n",
      "(Iteration 501 / 980) loss: 1.606701\n",
      "(Iteration 521 / 980) loss: 1.669652\n",
      "(Iteration 541 / 980) loss: 1.963735\n",
      "(Iteration 561 / 980) loss: 1.745511\n",
      "(Iteration 581 / 980) loss: 1.645393\n",
      "(Iteration 601 / 980) loss: 1.739773\n",
      "(Iteration 621 / 980) loss: 1.530648\n",
      "(Iteration 641 / 980) loss: 1.538420\n",
      "(Iteration 661 / 980) loss: 1.852017\n",
      "(Iteration 681 / 980) loss: 1.658407\n",
      "(Iteration 701 / 980) loss: 1.910680\n",
      "(Iteration 721 / 980) loss: 1.642026\n",
      "(Iteration 741 / 980) loss: 1.617252\n",
      "(Iteration 761 / 980) loss: 1.612737\n",
      "(Iteration 781 / 980) loss: 1.540658\n",
      "(Iteration 801 / 980) loss: 1.809890\n",
      "(Iteration 821 / 980) loss: 1.412008\n",
      "(Iteration 841 / 980) loss: 1.645027\n",
      "(Iteration 861 / 980) loss: 1.876698\n",
      "(Iteration 881 / 980) loss: 1.619913\n",
      "(Iteration 901 / 980) loss: 1.760169\n",
      "(Iteration 921 / 980) loss: 1.543797\n",
      "(Iteration 941 / 980) loss: 1.648400\n",
      "(Iteration 961 / 980) loss: 1.920584\n",
      "(Epoch 1 / 1) train acc: 0.421000; val_acc: 0.453000\n"
     ]
    }
   ],
   "source": [
    "model = ThreeLayerConvNet(weight_scale=0.001, hidden_dim=500, reg=0.001)\n",
    "\n",
    "solver = Solver(model, data,\n",
    "                num_epochs=1, batch_size=50,\n",
    "                update_rule='adam',\n",
    "                optim_config={\n",
    "                  'learning_rate': 1e-3,\n",
    "                },\n",
    "                verbose=True, print_every=20)\n",
    "solver.train()"
   ]
  },
  {
   "cell_type": "markdown",
   "metadata": {},
   "source": [
    "# Get > 65% validation accuracy on CIFAR-10.\n",
    "\n",
    "In the last part of the assignment, we'll now ask you to train a CNN to get better than 65% validation accuracy on CIFAR-10.\n",
    "\n",
    "### Things you should try:\n",
    "- Filter size: Above we used 7x7; but VGGNet and onwards showed stacks of 3x3 filters are good.  \n",
    "- Number of filters: Above we used 32 filters. Do more or fewer do better?\n",
    "- Batch normalization: Try adding spatial batch normalization after convolution layers and vanilla batch normalization aafter affine layers. Do your networks train faster?\n",
    "- Network architecture: Can a deeper CNN do better?  Consider these architectures:\n",
    "    - [conv-relu-pool]xN - conv - relu - [affine]xM - [softmax or SVM]\n",
    "    - [conv-relu-pool]XN - [affine]XM - [softmax or SVM]\n",
    "    - [conv-relu-conv-relu-pool]xN - [affine]xM - [softmax or SVM]\n",
    "\n",
    "### Tips for training\n",
    "For each network architecture that you try, you should tune the learning rate and regularization strength. When doing this there are a couple important things to keep in mind:\n",
    "\n",
    "- If the parameters are working well, you should see improvement within a few hundred iterations\n",
    "- Remember the coarse-to-fine approach for hyperparameter tuning: start by testing a large range of hyperparameters for just a few training iterations to find the combinations of parameters that are working at all.\n",
    "- Once you have found some sets of parameters that seem to work, search more finely around these parameters. You may need to train for more epochs."
   ]
  },
  {
   "cell_type": "code",
   "execution_count": 51,
   "metadata": {
    "scrolled": false
   },
   "outputs": [
    {
     "name": "stdout",
     "output_type": "stream",
     "text": [
      "(Iteration 1 / 3920) loss: 2.304585\n",
      "(Epoch 0 / 8) train acc: 0.119000; val_acc: 0.127000\n",
      "(Iteration 401 / 3920) loss: 1.236691\n",
      "(Epoch 1 / 8) train acc: 0.575000; val_acc: 0.577000\n",
      "(Iteration 801 / 3920) loss: 1.404091\n",
      "(Epoch 2 / 8) train acc: 0.630000; val_acc: 0.590000\n",
      "(Iteration 1201 / 3920) loss: 1.166223\n",
      "(Epoch 3 / 8) train acc: 0.696000; val_acc: 0.612000\n",
      "(Iteration 1601 / 3920) loss: 1.332338\n",
      "(Epoch 4 / 8) train acc: 0.756000; val_acc: 0.623000\n",
      "(Iteration 2001 / 3920) loss: 1.336193\n",
      "(Iteration 2401 / 3920) loss: 1.258139\n",
      "(Epoch 5 / 8) train acc: 0.791000; val_acc: 0.629000\n",
      "(Iteration 2801 / 3920) loss: 1.334418\n",
      "(Epoch 6 / 8) train acc: 0.813000; val_acc: 0.634000\n",
      "(Iteration 3201 / 3920) loss: 1.182699\n",
      "(Epoch 7 / 8) train acc: 0.847000; val_acc: 0.634000\n",
      "(Iteration 3601 / 3920) loss: 1.207136\n",
      "(Epoch 8 / 8) train acc: 0.851000; val_acc: 0.652000\n"
     ]
    }
   ],
   "source": [
    "# ================================================================ #\n",
    "# YOUR CODE HERE:\n",
    "#   Implement a CNN to achieve greater than 65% validation accuracy\n",
    "#   on CIFAR-10.\n",
    "# ================================================================ #\n",
    "model = ThreeLayerConvNet(weight_scale=0.001, hidden_dim=1000, reg=0.001, num_filters=16, filter_size=3)\n",
    "\n",
    "solver = Solver(model, data,\n",
    "                num_epochs=8, batch_size=100,\n",
    "                update_rule='adam',\n",
    "                optim_config={\n",
    "                  'learning_rate': 6e-4, 'lr_decay': 0.9,\n",
    "                },\n",
    "                verbose=True, print_every=400)\n",
    "solver.train()\n",
    "\n",
    "# ================================================================ #\n",
    "# END YOUR CODE HERE\n",
    "# ================================================================ #\n"
   ]
  },
  {
   "cell_type": "code",
   "execution_count": 52,
   "metadata": {},
   "outputs": [
    {
     "data": {
      "text/plain": [
       "0.652"
      ]
     },
     "execution_count": 52,
     "metadata": {},
     "output_type": "execute_result"
    }
   ],
   "source": [
    "solver.check_accuracy(data['X_val'], data['y_val'])"
   ]
  }
 ],
 "metadata": {
  "kernelspec": {
   "display_name": "base",
   "language": "python",
   "name": "python3"
  },
  "language_info": {
   "codemirror_mode": {
    "name": "ipython",
    "version": 3
   },
   "file_extension": ".py",
   "mimetype": "text/x-python",
   "name": "python",
   "nbconvert_exporter": "python",
   "pygments_lexer": "ipython3",
   "version": "3.9.13"
  },
  "pycharm": {
   "stem_cell": {
    "cell_type": "raw",
    "metadata": {
     "collapsed": false
    },
    "source": []
   }
  },
  "vscode": {
   "interpreter": {
    "hash": "f3dcc7b2f16026d3fd1f647292e386109b60073693320788604a46a42945bb63"
   }
  }
 },
 "nbformat": 4,
 "nbformat_minor": 2
}
